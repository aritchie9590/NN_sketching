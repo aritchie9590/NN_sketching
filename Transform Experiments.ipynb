{
 "cells": [
  {
   "cell_type": "markdown",
   "metadata": {},
   "source": [
    "## Create some data"
   ]
  },
  {
   "cell_type": "code",
   "execution_count": 49,
   "metadata": {},
   "outputs": [],
   "source": [
    "import numpy as np\n",
    "import time as t\n",
    "from sklearn import random_projection\n",
    "n = 10000\n",
    "d = 100000\n",
    "X = np.random.rand(n, d)"
   ]
  },
  {
   "cell_type": "markdown",
   "metadata": {},
   "source": [
    "## Random Gaussian Transform: approx O(nd)"
   ]
  },
  {
   "cell_type": "code",
   "execution_count": 57,
   "metadata": {},
   "outputs": [
    {
     "name": "stdout",
     "output_type": "stream",
     "text": [
      "0.2568662166595459 (276, 100000) \n",
      " 0.40973591804504395 (276, 100000) \n",
      " 3.140739679336548 (276, 100000)\n",
      "0.1384449005126953 (149, 500) \n",
      " 0.22084927558898926 (165, 1000) \n",
      " 3.160515069961548 (276, 100000)\n"
     ]
    }
   ],
   "source": [
    "Xn1 = X[:500]\n",
    "Xn2 = X[:1000]\n",
    "Xn3 = X\n",
    "\n",
    "Xd1 = X[:, :500]\n",
    "Xd2 = X[:, :1000]\n",
    "Xd3 = X\n",
    "\n",
    "#create random projection transformer\n",
    "transformer = random_projection.GaussianRandomProjection(eps=0.99)\n",
    "\n",
    "# n = 10\n",
    "start = t.time()\n",
    "X_new1 = transformer.fit_transform(Xn1.T).T\n",
    "end = t.time()\n",
    "t1 = end - start\n",
    "# n = 100\n",
    "start = t.time()\n",
    "X_new2 = transformer.fit_transform(Xn2.T).T\n",
    "end = t.time()\n",
    "t2 = end - start\n",
    "# n = 1000\n",
    "start = t.time()\n",
    "X_new3 = transformer.fit_transform(Xn3.T).T\n",
    "end = t.time()\n",
    "t3 = end - start\n",
    "print(t1, X_new1.shape, '\\n', t2, X_new2.shape, '\\n', t3, X_new3.shape)\n",
    "\n",
    "# p = 1000\n",
    "start = t.time()\n",
    "X_new1 = transformer.fit_transform(Xd1.T).T\n",
    "end = t.time()\n",
    "t1 = end - start\n",
    "# p = 10000\n",
    "start = t.time()\n",
    "X_new2 = transformer.fit_transform(Xd2.T).T\n",
    "end = t.time()\n",
    "t2 = end - start\n",
    "# p = 10000\n",
    "start = t.time()\n",
    "X_new3 = transformer.fit_transform(Xd3.T).T\n",
    "end = t.time()\n",
    "t3 = end - start\n",
    "print(t1, X_new1.shape, '\\n', t2, X_new2.shape, '\\n', t3, X_new3.shape)\n"
   ]
  },
  {
   "cell_type": "markdown",
   "metadata": {},
   "source": [
    "## Random Sparse Transform: O(nd)"
   ]
  },
  {
   "cell_type": "code",
   "execution_count": 56,
   "metadata": {},
   "outputs": [
    {
     "name": "stdout",
     "output_type": "stream",
     "text": [
      "0.505361795425415 (276, 100000) \n",
      " 0.6847708225250244 (276, 100000) \n",
      " 2.434791088104248 (276, 100000)\n",
      "0.07642889022827148 (149, 500) \n",
      " 0.1138160228729248 (165, 1000) \n",
      " 2.395220994949341 (276, 100000)\n"
     ]
    }
   ],
   "source": [
    "Xn1 = X[:500]\n",
    "Xn2 = X[:1000]\n",
    "Xn3 = X\n",
    "\n",
    "Xd1 = X[:, :500]\n",
    "Xd2 = X[:, :1000]\n",
    "Xd3 = X\n",
    "\n",
    "#create random projection transformer\n",
    "transformer = random_projection.SparseRandomProjection(eps=0.99)\n",
    "\n",
    "# n = 500\n",
    "start = t.time()\n",
    "X_new1 = transformer.fit_transform(Xn1.T).T\n",
    "end = t.time()\n",
    "t1 = end - start\n",
    "# n = 1000\n",
    "start = t.time()\n",
    "X_new2 = transformer.fit_transform(Xn2.T).T\n",
    "end = t.time()\n",
    "t2 = end - start\n",
    "# n = full\n",
    "start = t.time()\n",
    "X_new3 = transformer.fit_transform(Xn3.T).T\n",
    "end = t.time()\n",
    "t3 = end - start\n",
    "print(t1, X_new1.shape, '\\n', t2, X_new2.shape, '\\n', t3, X_new3.shape)\n",
    "\n",
    "# p = 500\n",
    "start = t.time()\n",
    "X_new1 = transformer.fit_transform(Xd1.T).T\n",
    "end = t.time()\n",
    "t1 = end - start\n",
    "# p = 1000\n",
    "start = t.time()\n",
    "X_new2 = transformer.fit_transform(Xd2.T).T\n",
    "end = t.time()\n",
    "t2 = end - start\n",
    "# p = full\n",
    "start = t.time()\n",
    "X_new3 = transformer.fit_transform(Xd3.T).T\n",
    "end = t.time()\n",
    "t3 = end - start\n",
    "print(t1, X_new1.shape, '\\n', t2, X_new2.shape, '\\n', t3, X_new3.shape)"
   ]
  },
  {
   "cell_type": "markdown",
   "metadata": {},
   "source": [
    "## Implement FJLT  via fast Hadamard Transform: slow??"
   ]
  },
  {
   "cell_type": "code",
   "execution_count": 10,
   "metadata": {},
   "outputs": [],
   "source": [
    "import numpy as np\n",
    "import numpy.random as npr\n",
    "import math\n",
    "import scipy.sparse as sparse\n",
    "import FWHT\n",
    "\n",
    "\n",
    "\n",
    "def nextPow(d_act):\n",
    "    d_act = d_act - 1\n",
    "    d_act |= d_act >> 1\n",
    "    d_act |= d_act >> 2\n",
    "    d_act |= d_act >> 4\n",
    "    d_act |= d_act >> 8\n",
    "    d_act |= d_act >> 16\n",
    "    d_act += 1\n",
    "    return d_act\n",
    "\n",
    "def fast_sample(n, sample_size):\n",
    "    swap_records = {}\n",
    "    sample_wor = np.empty(sample_size, dtype=int)\n",
    "    for i in range(sample_size):\n",
    "        rand_ix = npr.randint(i, n)\n",
    "        \n",
    "        if i in swap_records:\n",
    "            el1 = swap_records[i]\n",
    "        else:\n",
    "            el1 = i\n",
    "\n",
    "        if rand_ix in swap_records:\n",
    "            el2 = swap_records[rand_ix]\n",
    "        else:\n",
    "            el2 = rand_ix\n",
    "        \n",
    "        swap_records[rand_ix] = el1\n",
    "        sample_wor[i] = el2\n",
    "        if i in swap_records:            \n",
    "            del swap_records[i]\n",
    "    return sample_wor\n",
    "\n",
    "def fjlt(A, k, q):\n",
    "    (d, n) = A.shape\n",
    "    #Calculate the next power of 2\n",
    "    d_act = nextPow(d)\n",
    "    sc_ft = np.sqrt(d_act / float(d * k))\n",
    "    #Calculate D plus some constansts\n",
    "    D = npr.randint(0, 2, size=(d, 1)) * 2 * sc_ft - sc_ft\n",
    "    DA = np.zeros((d_act, n))\n",
    "    DA[0:d, :] = A * D\n",
    "    \n",
    "    #Apply hadamard transform to each row\n",
    "    hda = np.apply_along_axis(FWHT.FWHT, 1, DA.T)[:,:,0].T\n",
    "\n",
    "    #Apply P transform\n",
    "    sample_size = npr.binomial(k * d, q)\n",
    "    indc = fast_sample(k * d, sample_size)\n",
    "    p_rows, p_cols = np.unravel_index(indc, (k, d))\n",
    "    p_data = npr.normal(loc=0, scale=math.sqrt(1/q), size=len(p_rows))\n",
    "    P = sparse.csr_matrix((p_data, (p_rows, p_cols)), shape=(k, d_act))\n",
    "    return P.dot(hda)"
   ]
  },
  {
   "cell_type": "code",
   "execution_count": 45,
   "metadata": {},
   "outputs": [
    {
     "name": "stdout",
     "output_type": "stream",
     "text": [
      "28.226892709732056\n"
     ]
    },
    {
     "data": {
      "text/plain": [
       "(100, 10000)"
      ]
     },
     "execution_count": 45,
     "metadata": {},
     "output_type": "execute_result"
    }
   ],
   "source": [
    "start = t.time()\n",
    "b = fjlt(X, 100, 1)\n",
    "end = t.time()\n",
    "print(end-start)\n",
    "b.shape"
   ]
  },
  {
   "cell_type": "markdown",
   "metadata": {},
   "source": [
    "## Random Sampling: sooo much faster"
   ]
  },
  {
   "cell_type": "code",
   "execution_count": 44,
   "metadata": {},
   "outputs": [
    {
     "name": "stdout",
     "output_type": "stream",
     "text": [
      "0.010050058364868164\n",
      "0.007711887359619141\n"
     ]
    }
   ],
   "source": [
    "from numpy.random import choice\n",
    "\n",
    "#unweighted\n",
    "start = t.time()\n",
    "draw = choice(range(n), 442, replace=False)\n",
    "X[draw,:]\n",
    "end = t.time()\n",
    "print(end-start)\n",
    "\n",
    "#weighted by row norm\n",
    "norms = np.linalg.norm(X, axis=1) #only do this once\n",
    "weights = norms / sum(norms)\n",
    "start = t.time()\n",
    "draw = choice(range(n), 442, p=weights, replace=False)\n",
    "X[draw,:]\n",
    "end = t.time()\n",
    "print(end-start)"
   ]
  },
  {
   "cell_type": "code",
   "execution_count": null,
   "metadata": {},
   "outputs": [],
   "source": []
  }
 ],
 "metadata": {
  "kernelspec": {
   "display_name": "Python 3",
   "language": "python",
   "name": "python3"
  }
 },
 "nbformat": 4,
 "nbformat_minor": 2
}
