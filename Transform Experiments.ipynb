{
 "cells": [
  {
   "cell_type": "markdown",
   "metadata": {},
   "source": [
    "## Create some data"
   ]
  },
  {
   "cell_type": "code",
   "execution_count": 22,
   "metadata": {},
   "outputs": [],
   "source": [
    "import numpy as np\n",
    "import time as t\n",
    "from sklearn import random_projection\n",
    "n = 10000\n",
    "d = 10000\n",
    "X = np.random.rand(n, d)"
   ]
  },
  {
   "cell_type": "markdown",
   "metadata": {},
   "source": [
    "## Random Gaussian Transform: approx O(nd)"
   ]
  },
  {
   "cell_type": "code",
   "execution_count": 35,
   "metadata": {},
   "outputs": [
    {
     "name": "stdout",
     "output_type": "stream",
     "text": [
      "0.04035806655883789 (442, 10000) \n",
      " 0.06374001502990723 (442, 10000) \n",
      " 0.5787320137023926 (442, 10000)\n",
      "0.14344406127929688 (298, 500) \n",
      " 0.2151632308959961 (331, 1000) \n",
      " 0.5957870483398438 (442, 10000)\n"
     ]
    }
   ],
   "source": [
    "Xn1 = X[:500]\n",
    "Xn2 = X[:1000]\n",
    "Xn3 = X\n",
    "\n",
    "Xd1 = X[:, :500]\n",
    "Xd2 = X[:, :1000]\n",
    "Xd3 = X\n",
    "\n",
    "#create random projection transformer\n",
    "transformer = random_projection.GaussianRandomProjection(eps=0.5)\n",
    "\n",
    "# n = 10\n",
    "start = t.time()\n",
    "X_new1 = transformer.fit_transform(Xn1.T).T\n",
    "end = t.time()\n",
    "t1 = end - start\n",
    "# n = 100\n",
    "start = t.time()\n",
    "X_new2 = transformer.fit_transform(Xn2.T).T\n",
    "end = t.time()\n",
    "t2 = end - start\n",
    "# n = 1000\n",
    "start = t.time()\n",
    "X_new3 = transformer.fit_transform(Xn3.T).T\n",
    "end = t.time()\n",
    "t3 = end - start\n",
    "print(t1, X_new1.shape, '\\n', t2, X_new2.shape, '\\n', t3, X_new3.shape)\n",
    "\n",
    "# p = 1000\n",
    "start = t.time()\n",
    "X_new1 = transformer.fit_transform(Xd1.T).T\n",
    "end = t.time()\n",
    "t1 = end - start\n",
    "# p = 10000\n",
    "start = t.time()\n",
    "X_new2 = transformer.fit_transform(Xd2.T).T\n",
    "end = t.time()\n",
    "t2 = end - start\n",
    "# p = 10000\n",
    "start = t.time()\n",
    "X_new3 = transformer.fit_transform(Xd3.T).T\n",
    "end = t.time()\n",
    "t3 = end - start\n",
    "print(t1, X_new1.shape, '\\n', t2, X_new2.shape, '\\n', t3, X_new3.shape)\n"
   ]
  },
  {
   "cell_type": "markdown",
   "metadata": {},
   "source": [
    "## Random Sparse Transform: O(nd)"
   ]
  },
  {
   "cell_type": "code",
   "execution_count": 9,
   "metadata": {},
   "outputs": [
    {
     "name": "stdout",
     "output_type": "stream",
     "text": [
      "0.07978224754333496 (442, 10000) \n",
      " 0.10758686065673828 (442, 10000) \n",
      " 0.4223899841308594 (442, 10000)\n",
      "0.10091781616210938 (298, 500) \n",
      " 0.1466672420501709 (331, 1000) \n",
      " 0.42191624641418457 (442, 10000)\n"
     ]
    }
   ],
   "source": [
    "Xn1 = X[:500]\n",
    "Xn2 = X[:1000]\n",
    "Xn3 = X\n",
    "\n",
    "Xd1 = X[:, :500]\n",
    "Xd2 = X[:, :1000]\n",
    "Xd3 = X\n",
    "\n",
    "#create random projection transformer\n",
    "transformer = random_projection.SparseRandomProjection(eps=0.5)\n",
    "\n",
    "# n = 10\n",
    "start = t.time()\n",
    "X_new1 = transformer.fit_transform(Xn1.T).T\n",
    "end = t.time()\n",
    "t1 = end - start\n",
    "# n = 100\n",
    "start = t.time()\n",
    "X_new2 = transformer.fit_transform(Xn2.T).T\n",
    "end = t.time()\n",
    "t2 = end - start\n",
    "# n = 1000\n",
    "start = t.time()\n",
    "X_new3 = transformer.fit_transform(Xn3.T).T\n",
    "end = t.time()\n",
    "t3 = end - start\n",
    "print(t1, X_new1.shape, '\\n', t2, X_new2.shape, '\\n', t3, X_new3.shape)\n",
    "\n",
    "# p = 1000\n",
    "start = t.time()\n",
    "X_new1 = transformer.fit_transform(Xd1.T).T\n",
    "end = t.time()\n",
    "t1 = end - start\n",
    "# p = 10000\n",
    "start = t.time()\n",
    "X_new2 = transformer.fit_transform(Xd2.T).T\n",
    "end = t.time()\n",
    "t2 = end - start\n",
    "# p = 10000\n",
    "start = t.time()\n",
    "X_new3 = transformer.fit_transform(Xd3.T).T\n",
    "end = t.time()\n",
    "t3 = end - start\n",
    "print(t1, X_new1.shape, '\\n', t2, X_new2.shape, '\\n', t3, X_new3.shape)"
   ]
  },
  {
   "cell_type": "markdown",
   "metadata": {},
   "source": [
    "## Implement FJLT  via fast Hadamard Transform: slow??"
   ]
  },
  {
   "cell_type": "code",
   "execution_count": 10,
   "metadata": {},
   "outputs": [],
   "source": [
    "import numpy as np\n",
    "import numpy.random as npr\n",
    "import math\n",
    "import scipy.sparse as sparse\n",
    "import FWHT\n",
    "\n",
    "\n",
    "\n",
    "def nextPow(d_act):\n",
    "    d_act = d_act - 1\n",
    "    d_act |= d_act >> 1\n",
    "    d_act |= d_act >> 2\n",
    "    d_act |= d_act >> 4\n",
    "    d_act |= d_act >> 8\n",
    "    d_act |= d_act >> 16\n",
    "    d_act += 1\n",
    "    return d_act\n",
    "\n",
    "def fast_sample(n, sample_size):\n",
    "    swap_records = {}\n",
    "    sample_wor = np.empty(sample_size, dtype=int)\n",
    "    for i in range(sample_size):\n",
    "        rand_ix = npr.randint(i, n)\n",
    "        \n",
    "        if i in swap_records:\n",
    "            el1 = swap_records[i]\n",
    "        else:\n",
    "            el1 = i\n",
    "\n",
    "        if rand_ix in swap_records:\n",
    "            el2 = swap_records[rand_ix]\n",
    "        else:\n",
    "            el2 = rand_ix\n",
    "        \n",
    "        swap_records[rand_ix] = el1\n",
    "        sample_wor[i] = el2\n",
    "        if i in swap_records:            \n",
    "            del swap_records[i]\n",
    "    return sample_wor\n",
    "\n",
    "def fjlt(A, k, q):\n",
    "    (d, n) = A.shape\n",
    "    #Calculate the next power of 2\n",
    "    d_act = nextPow(d)\n",
    "    sc_ft = np.sqrt(d_act / float(d * k))\n",
    "    #Calculate D plus some constansts\n",
    "    D = npr.randint(0, 2, size=(d, 1)) * 2 * sc_ft - sc_ft\n",
    "    DA = np.zeros((d_act, n))\n",
    "    DA[0:d, :] = A * D\n",
    "    \n",
    "    #Apply hadamard transform to each row\n",
    "    hda = np.apply_along_axis(FWHT.FWHT, 1, DA.T)[:,:,0].T\n",
    "\n",
    "    #Apply P transform\n",
    "    sample_size = npr.binomial(k * d, q)\n",
    "    indc = fast_sample(k * d, sample_size)\n",
    "    p_rows, p_cols = np.unravel_index(indc, (k, d))\n",
    "    p_data = npr.normal(loc=0, scale=math.sqrt(1/q), size=len(p_rows))\n",
    "    P = sparse.csr_matrix((p_data, (p_rows, p_cols)), shape=(k, d_act))\n",
    "    return P.dot(hda)"
   ]
  },
  {
   "cell_type": "code",
   "execution_count": 13,
   "metadata": {},
   "outputs": [
    {
     "name": "stdout",
     "output_type": "stream",
     "text": [
      "58.92161703109741\n"
     ]
    },
    {
     "data": {
      "text/plain": [
       "(512, 10000)"
      ]
     },
     "execution_count": 13,
     "metadata": {},
     "output_type": "execute_result"
    }
   ],
   "source": [
    "start = t.time()\n",
    "b = fjlt(X, 512, 1)\n",
    "end = t.time()\n",
    "print(end-start)\n",
    "b.shape"
   ]
  },
  {
   "cell_type": "markdown",
   "metadata": {},
   "source": [
    "## Random Sampling "
   ]
  },
  {
   "cell_type": "code",
   "execution_count": 33,
   "metadata": {},
   "outputs": [
    {
     "name": "stdout",
     "output_type": "stream",
     "text": [
      "0.010253190994262695\n",
      "0.008491039276123047\n"
     ]
    }
   ],
   "source": [
    "from numpy.random import choice\n",
    "\n",
    "#unweighted\n",
    "start = t.time()\n",
    "draw = choice(range(n), 442)\n",
    "X[draw,:]\n",
    "end = t.time()\n",
    "print(end-start)\n",
    "\n",
    "#weighted by row norm\n",
    "norms = np.linalg.norm(X, axis=1)\n",
    "weights = norms / sum(norms)\n",
    "start = t.time()\n",
    "draw = choice(range(n), 442, p=weights)\n",
    "X[draw,:]\n",
    "end = t.time()\n",
    "print(end-start)"
   ]
  },
  {
   "cell_type": "code",
   "execution_count": null,
   "metadata": {},
   "outputs": [],
   "source": []
  }
 ],
 "metadata": {
  "kernelspec": {
   "display_name": "Python 3",
   "language": "python",
   "name": "python3"
  }
 },
 "nbformat": 4,
 "nbformat_minor": 2
}
